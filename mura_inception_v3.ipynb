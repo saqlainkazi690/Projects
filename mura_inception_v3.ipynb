{
  "metadata": {
    "kernelspec": {
      "language": "python",
      "display_name": "Python 3",
      "name": "python3"
    },
    "language_info": {
      "name": "python",
      "version": "3.7.10",
      "mimetype": "text/x-python",
      "codemirror_mode": {
        "name": "ipython",
        "version": 3
      },
      "pygments_lexer": "ipython3",
      "nbconvert_exporter": "python",
      "file_extension": ".py"
    },
    "kaggle": {
      "accelerator": "nvidiaTeslaT4",
      "dataSources": [
        {
          "sourceId": 813639,
          "sourceType": "datasetVersion",
          "datasetId": 427555
        }
      ],
      "dockerImageVersionId": 30132,
      "isInternetEnabled": true,
      "language": "python",
      "sourceType": "notebook",
      "isGpuEnabled": true
    },
    "colab": {
      "name": "mura inception v3 ",
      "provenance": [],
      "include_colab_link": true
    }
  },
  "nbformat_minor": 0,
  "nbformat": 4,
  "cells": [
    {
      "cell_type": "markdown",
      "metadata": {
        "id": "view-in-github",
        "colab_type": "text"
      },
      "source": [
        "<a href=\"https://colab.research.google.com/github/saqlainkazi690/Projects/blob/main/mura_inception_v3.ipynb\" target=\"_parent\"><img src=\"https://colab.research.google.com/assets/colab-badge.svg\" alt=\"Open In Colab\"/></a>"
      ]
    },
    {
      "source": [
        "\n",
        "# IMPORTANT: RUN THIS CELL IN ORDER TO IMPORT YOUR KAGGLE DATA SOURCES\n",
        "# TO THE CORRECT LOCATION (/kaggle/input) IN YOUR NOTEBOOK,\n",
        "# THEN FEEL FREE TO DELETE THIS CELL.\n",
        "# NOTE: THIS NOTEBOOK ENVIRONMENT DIFFERS FROM KAGGLE'S PYTHON\n",
        "# ENVIRONMENT SO THERE MAY BE MISSING LIBRARIES USED BY YOUR\n",
        "# NOTEBOOK.\n",
        "\n",
        "import os\n",
        "import sys\n",
        "from tempfile import NamedTemporaryFile\n",
        "from urllib.request import urlopen\n",
        "from urllib.parse import unquote, urlparse\n",
        "from urllib.error import HTTPError\n",
        "from zipfile import ZipFile\n",
        "import tarfile\n",
        "import shutil\n",
        "\n",
        "CHUNK_SIZE = 40960\n",
        "DATA_SOURCE_MAPPING = 'mura-v11:https%3A%2F%2Fstorage.googleapis.com%2Fkaggle-data-sets%2F427555%2F813639%2Fbundle%2Farchive.zip%3FX-Goog-Algorithm%3DGOOG4-RSA-SHA256%26X-Goog-Credential%3Dgcp-kaggle-com%2540kaggle-161607.iam.gserviceaccount.com%252F20240620%252Fauto%252Fstorage%252Fgoog4_request%26X-Goog-Date%3D20240620T002733Z%26X-Goog-Expires%3D259200%26X-Goog-SignedHeaders%3Dhost%26X-Goog-Signature%3D25b1b2b85d82d6a6f9cee6230449be8a1e86e4ee83c3e8edc7bebc508ae64024b9258371b0a7db29327d60c1b0e13d298eb67c94f9ba139b77910c8ae28a25d66b869ca44debc6e9af20ce5e23ba288cc790b1bb8a21805270b8a365cf29ac8c7a2c2857668a59d9f5dffd5fd119f9f4c351438e2e20669a4d1833701d31ac7fd26209d6aa0477ea90ae69cce8cc21acaaf5503b15207bdbb7410566ec21257f8ae6b86e54fe0e0e812e99a225eabcf1aff70d127fca589f5c3c546ff9543519f14c7af7453e7c014d8c27cb471f57fde3156c02b17d71d4562b8dc8a5abb4d3f92386fba399ac9f1904c5b59061945c9005310d80d9b9d8ce898d0e31015cbb'\n",
        "\n",
        "KAGGLE_INPUT_PATH='/kaggle/input'\n",
        "KAGGLE_WORKING_PATH='/kaggle/working'\n",
        "KAGGLE_SYMLINK='kaggle'\n",
        "\n",
        "!umount /kaggle/input/ 2> /dev/null\n",
        "shutil.rmtree('/kaggle/input', ignore_errors=True)\n",
        "os.makedirs(KAGGLE_INPUT_PATH, 0o777, exist_ok=True)\n",
        "os.makedirs(KAGGLE_WORKING_PATH, 0o777, exist_ok=True)\n",
        "\n",
        "try:\n",
        "  os.symlink(KAGGLE_INPUT_PATH, os.path.join(\"..\", 'input'), target_is_directory=True)\n",
        "except FileExistsError:\n",
        "  pass\n",
        "try:\n",
        "  os.symlink(KAGGLE_WORKING_PATH, os.path.join(\"..\", 'working'), target_is_directory=True)\n",
        "except FileExistsError:\n",
        "  pass\n",
        "\n",
        "for data_source_mapping in DATA_SOURCE_MAPPING.split(','):\n",
        "    directory, download_url_encoded = data_source_mapping.split(':')\n",
        "    download_url = unquote(download_url_encoded)\n",
        "    filename = urlparse(download_url).path\n",
        "    destination_path = os.path.join(KAGGLE_INPUT_PATH, directory)\n",
        "    try:\n",
        "        with urlopen(download_url) as fileres, NamedTemporaryFile() as tfile:\n",
        "            total_length = fileres.headers['content-length']\n",
        "            print(f'Downloading {directory}, {total_length} bytes compressed')\n",
        "            dl = 0\n",
        "            data = fileres.read(CHUNK_SIZE)\n",
        "            while len(data) > 0:\n",
        "                dl += len(data)\n",
        "                tfile.write(data)\n",
        "                done = int(50 * dl / int(total_length))\n",
        "                sys.stdout.write(f\"\\r[{'=' * done}{' ' * (50-done)}] {dl} bytes downloaded\")\n",
        "                sys.stdout.flush()\n",
        "                data = fileres.read(CHUNK_SIZE)\n",
        "            if filename.endswith('.zip'):\n",
        "              with ZipFile(tfile) as zfile:\n",
        "                zfile.extractall(destination_path)\n",
        "            else:\n",
        "              with tarfile.open(tfile.name) as tarfile:\n",
        "                tarfile.extractall(destination_path)\n",
        "            print(f'\\nDownloaded and uncompressed: {directory}')\n",
        "    except HTTPError as e:\n",
        "        print(f'Failed to load (likely expired) {download_url} to path {destination_path}')\n",
        "        continue\n",
        "    except OSError as e:\n",
        "        print(f'Failed to load {download_url} to path {destination_path}')\n",
        "        continue\n",
        "\n",
        "print('Data source import complete.')\n"
      ],
      "metadata": {
        "id": "wgqmJ6U6CqiR"
      },
      "cell_type": "code",
      "outputs": [],
      "execution_count": null
    },
    {
      "cell_type": "code",
      "source": [
        "import tensorflow as tf\n",
        "import os\n",
        "import pandas as pd\n",
        "import cv2\n",
        "from skimage.transform import rescale, resize\n",
        "from tensorflow import keras\n",
        "import numpy as np\n",
        "from sklearn.utils import class_weight\n",
        "import tensorflow_addons as tfa\n",
        "import pickle\n",
        "from skimage.io import imread\n",
        "from sklearn.utils import shuffle\n",
        "from matplotlib import pyplot as plt"
      ],
      "metadata": {
        "execution": {
          "iopub.status.busy": "2024-06-18T07:48:04.245039Z",
          "iopub.execute_input": "2024-06-18T07:48:04.245771Z",
          "iopub.status.idle": "2024-06-18T07:48:10.148057Z",
          "shell.execute_reply.started": "2024-06-18T07:48:04.245679Z",
          "shell.execute_reply": "2024-06-18T07:48:10.147254Z"
        },
        "trusted": true,
        "id": "4Bsm_3mzCqiV"
      },
      "execution_count": null,
      "outputs": []
    },
    {
      "cell_type": "code",
      "source": [
        "def filenames(part,train=True):\n",
        "    root='../input/mura-v11/'\n",
        "    if train:\n",
        "        csv_path=\"../input/mura-v11/MURA-v1.1/train_image_paths.csv\"\n",
        "    else:\n",
        "        csv_path=\"../input/mura-v11/MURA-v1.1/valid_image_paths.csv\"\n",
        "\n",
        "    with open(csv_path, 'rb') as F:\n",
        "        d = F.readlines()\n",
        "#         print(str(d[0],encoding='utf-8').strip())\n",
        "        if part == 'all':\n",
        "            imgs = [root + str(x, encoding='utf-8').strip() for x in d]  # 所有图片的存储路径, [:-1]目的是抛弃最末尾的\\n\n",
        "        else:\n",
        "            imgs = [root + str(x, encoding='utf-8').strip() for x in d if\n",
        "                            str(x, encoding='utf-8').strip().split('/')[2] == part]\n",
        "\n",
        "#     imgs= [x.replace(\"/\", \"\\\\\") for x in imgs]\n",
        "    labels= [x.split('_')[-1].split('/')[0] for x in imgs]\n",
        "#     print(\"self testing:\",imgs[:5],labels[:5])\n",
        "    return imgs,labels"
      ],
      "metadata": {
        "execution": {
          "iopub.status.busy": "2024-06-18T07:48:30.524633Z",
          "iopub.execute_input": "2024-06-18T07:48:30.525236Z",
          "iopub.status.idle": "2024-06-18T07:48:30.533823Z",
          "shell.execute_reply.started": "2024-06-18T07:48:30.525196Z",
          "shell.execute_reply": "2024-06-18T07:48:30.532949Z"
        },
        "trusted": true,
        "id": "28bJKcDKCqiV"
      },
      "execution_count": null,
      "outputs": []
    },
    {
      "cell_type": "code",
      "source": [
        "def crop_center(img,cropx,cropy):\n",
        "    y,x,_ = img.shape\n",
        "    startx = x//2-(cropx//2)\n",
        "    starty = y//2-(cropy//2)\n",
        "    return img[starty:starty+cropy,startx:startx+cropx]"
      ],
      "metadata": {
        "execution": {
          "iopub.status.busy": "2024-06-18T07:48:37.359706Z",
          "iopub.execute_input": "2024-06-18T07:48:37.360468Z",
          "iopub.status.idle": "2024-06-18T07:48:37.365245Z",
          "shell.execute_reply.started": "2024-06-18T07:48:37.360425Z",
          "shell.execute_reply": "2024-06-18T07:48:37.364425Z"
        },
        "trusted": true,
        "id": "VD_7NpdyCqiW"
      },
      "execution_count": null,
      "outputs": []
    },
    {
      "cell_type": "code",
      "source": [
        "from albumentations import (\n",
        "    Compose, HorizontalFlip, CLAHE, HueSaturationValue,\n",
        "    RandomBrightness, RandomContrast, RandomGamma,\n",
        "    ToFloat, ShiftScaleRotate\n",
        ")\n",
        "# from albumentations.augmentations.transforms import Resize\n",
        "AUGMENTATIONS_TRAIN = Compose([\n",
        "    HorizontalFlip(p=0.5),\n",
        "    RandomContrast(limit=0.2, p=0.5),\n",
        "    RandomGamma(gamma_limit=(80, 120), p=0.5),\n",
        "    RandomBrightness(limit=0.2, p=0.5),\n",
        "    ShiftScaleRotate(\n",
        "        shift_limit=0.0625, scale_limit=0.1,\n",
        "        rotate_limit=15, border_mode=cv2.BORDER_REFLECT_101, p=0.8),\n",
        "    ToFloat(max_value=255)\n",
        "])\n",
        "AUGMENTATIONS_TEST = Compose([\n",
        "    # CLAHE(p=1.0, clip_limit=2.0),\n",
        "    ToFloat(max_value=255)\n",
        "])"
      ],
      "metadata": {
        "execution": {
          "iopub.status.busy": "2024-06-18T07:48:40.678082Z",
          "iopub.execute_input": "2024-06-18T07:48:40.678437Z",
          "iopub.status.idle": "2024-06-18T07:48:41.373791Z",
          "shell.execute_reply.started": "2024-06-18T07:48:40.67838Z",
          "shell.execute_reply": "2024-06-18T07:48:41.372997Z"
        },
        "trusted": true,
        "id": "g4BRYFStCqiW"
      },
      "execution_count": null,
      "outputs": []
    },
    {
      "cell_type": "code",
      "source": [
        "albumentation_list =  [\n",
        "    HorizontalFlip(p=0.5),\n",
        "    RandomContrast(limit=0.2, p=0.5),\n",
        "    RandomGamma(gamma_limit=(80, 120), p=0.5),\n",
        "    RandomBrightness(limit=0.2, p=0.5),\n",
        "    ShiftScaleRotate(\n",
        "        shift_limit=0.0625, scale_limit=0.1,\n",
        "        rotate_limit=15, border_mode=cv2.BORDER_REFLECT_101, p=0.8),\n",
        "    ToFloat(max_value=255)\n",
        "]\n",
        "root='../input/mura-v11/'\n",
        "chosen_image= imread(root+'MURA-v1.1/train/XR_ELBOW/patient01055/study1_positive/image3.png')\n",
        "img_matrix_list = []\n",
        "bboxes_list = []\n",
        "for aug_type in albumentation_list:\n",
        "    img = aug_type(image = chosen_image)['image']\n",
        "    img_matrix_list.append(img)\n",
        "img= resize(chosen_image,(300,300,3))\n",
        "img_matrix_list.append(img)\n",
        "img_matrix_list.append(crop_center(img,224,224))\n",
        "\n",
        "img_matrix_list.insert(0,chosen_image)\n",
        "\n",
        "titles_list = [\"Original\",\"Horizontal Flip\",\"Random Contrast\",\"Random Gamma\",\"RandomBrightness\",\n",
        "               \"Shift Scale Rotate\",\"Resizing\", \"Cropping\"]"
      ],
      "metadata": {
        "execution": {
          "iopub.status.busy": "2024-06-18T07:48:49.381821Z",
          "iopub.execute_input": "2024-06-18T07:48:49.382103Z",
          "iopub.status.idle": "2024-06-18T07:48:49.47914Z",
          "shell.execute_reply.started": "2024-06-18T07:48:49.382071Z",
          "shell.execute_reply": "2024-06-18T07:48:49.478572Z"
        },
        "trusted": true,
        "id": "vxtLK-qZCqiW"
      },
      "execution_count": null,
      "outputs": []
    },
    {
      "cell_type": "code",
      "source": [
        "def plot_multiple_img(img_matrix_list, title_list, ncols, main_title=\"Data Augmentation\"):\n",
        "    fig, myaxes = plt.subplots(figsize=(20, 15), nrows=2, ncols=ncols, squeeze=True)\n",
        "    fig.suptitle(main_title, fontsize = 30)\n",
        "    #fig.subplots_adjust(wspace=0.3)\n",
        "    #fig.subplots_adjust(hspace=0.3)\n",
        "    for i, (img, title) in enumerate(zip(img_matrix_list, title_list)):\n",
        "        myaxes[i // ncols][i % ncols].imshow(img)\n",
        "        myaxes[i // ncols][i % ncols].set_title(title, fontsize=15)\n",
        "    plt.show()\n",
        "\n",
        "plot_multiple_img(img_matrix_list, titles_list, ncols = 4)\n"
      ],
      "metadata": {
        "execution": {
          "iopub.status.busy": "2024-06-18T07:48:53.387842Z",
          "iopub.execute_input": "2024-06-18T07:48:53.388644Z",
          "iopub.status.idle": "2024-06-18T07:48:54.754703Z",
          "shell.execute_reply.started": "2024-06-18T07:48:53.388606Z",
          "shell.execute_reply": "2024-06-18T07:48:54.753921Z"
        },
        "trusted": true,
        "id": "w02nB2FgCqiX"
      },
      "execution_count": null,
      "outputs": []
    },
    {
      "cell_type": "code",
      "source": [
        "class My_Custom_Generator(keras.utils.Sequence) :\n",
        "    def __init__(self, image_filenames, labels, batch_size,transform) :\n",
        "        self.image_filenames = image_filenames\n",
        "        self.labels = labels\n",
        "        self.batch_size = batch_size\n",
        "        self.t= transform\n",
        "\n",
        "    def __len__(self) :\n",
        "        return (np.ceil(len(self.image_filenames) / float(self.batch_size))).astype(np.int)\n",
        "\n",
        "    def __getitem__(self, idx) :\n",
        "        batch_x = self.image_filenames[idx * self.batch_size : (idx+1) * self.batch_size]\n",
        "        batch_y = self.labels[idx * self.batch_size : (idx+1) * self.batch_size]\n",
        "        x=[]\n",
        "        for file in batch_x:\n",
        "            img= imread(file)\n",
        "            img= self.t(image=img)[\"image\"]\n",
        "            img= resize(img,(300,300,3))\n",
        "            img= crop_center(img,224,224)\n",
        "            x.append(img)\n",
        "        x=np.array(x)/255.0\n",
        "        y= np.array(batch_y)\n",
        "        return x,y"
      ],
      "metadata": {
        "execution": {
          "iopub.status.busy": "2024-06-18T07:48:59.047303Z",
          "iopub.execute_input": "2024-06-18T07:48:59.047605Z",
          "iopub.status.idle": "2024-06-18T07:48:59.057468Z",
          "shell.execute_reply.started": "2024-06-18T07:48:59.047575Z",
          "shell.execute_reply": "2024-06-18T07:48:59.056503Z"
        },
        "trusted": true,
        "id": "hRLCNDEXCqiX"
      },
      "execution_count": null,
      "outputs": []
    },
    {
      "cell_type": "code",
      "source": [
        "part='XR_FINGER'\n",
        "imgs,labels= filenames(part=part)\n",
        "vimgs,vlabels= filenames(part=part,train=False)\n",
        "print(labels.count('positive'),labels.count('negative'))\n",
        "training_data= labels.count('positive')+labels.count('negative')\n",
        "print(\"Training Data: \", training_data)\n",
        "y_data= [0 if x=='positive' else 1 for x in labels]\n",
        "# print(y_data[-1:-5:-1])\n",
        "y_data= keras.utils.to_categorical(y_data)\n",
        "# print(y_data[-1:-5:-1])\n",
        "print(vlabels.count('positive'),vlabels.count('negative'))\n",
        "validation_data= vlabels.count('positive')+vlabels.count('negative')\n",
        "print(\"Validation Data: \", validation_data)\n",
        "vy_data= [0 if x=='positive' else 1 for x in vlabels]\n",
        "vy_data= keras.utils.to_categorical(vy_data)"
      ],
      "metadata": {
        "execution": {
          "iopub.status.busy": "2024-06-18T07:49:02.314953Z",
          "iopub.execute_input": "2024-06-18T07:49:02.315244Z",
          "iopub.status.idle": "2024-06-18T07:49:02.409955Z",
          "shell.execute_reply.started": "2024-06-18T07:49:02.315205Z",
          "shell.execute_reply": "2024-06-18T07:49:02.40922Z"
        },
        "trusted": true,
        "id": "-dBVOTORCqiY"
      },
      "execution_count": null,
      "outputs": []
    },
    {
      "cell_type": "code",
      "source": [
        "# np.argmax(y_data,axis=1)"
      ],
      "metadata": {
        "execution": {
          "iopub.status.busy": "2024-06-18T07:49:06.024845Z",
          "iopub.execute_input": "2024-06-18T07:49:06.025127Z",
          "iopub.status.idle": "2024-06-18T07:49:06.029193Z",
          "shell.execute_reply.started": "2024-06-18T07:49:06.025096Z",
          "shell.execute_reply": "2024-06-18T07:49:06.028307Z"
        },
        "trusted": true,
        "id": "uxnppDJKCqiY"
      },
      "execution_count": null,
      "outputs": []
    },
    {
      "cell_type": "code",
      "source": [
        "from sklearn.utils.class_weight import compute_class_weight\n",
        "\n",
        "y_integers = np.argmax(y_data, axis=1)\n",
        "class_weights = compute_class_weight(class_weight='balanced', classes=np.unique(y_integers), y=y_integers)\n",
        "d_class_weights = dict(enumerate(class_weights))"
      ],
      "metadata": {
        "execution": {
          "iopub.status.busy": "2024-06-18T07:49:07.631131Z",
          "iopub.execute_input": "2024-06-18T07:49:07.631469Z",
          "iopub.status.idle": "2024-06-18T07:49:07.660648Z",
          "shell.execute_reply.started": "2024-06-18T07:49:07.631432Z",
          "shell.execute_reply": "2024-06-18T07:49:07.65995Z"
        },
        "trusted": true,
        "id": "praRK303CqiZ"
      },
      "execution_count": null,
      "outputs": []
    },
    {
      "cell_type": "code",
      "source": [
        "batch_size = 32\n",
        "imgs, y_data = shuffle(imgs, y_data)\n",
        "#vimgs, vy_data = shuffle(vimgs, vy_data)\n",
        "my_training_batch_generator = My_Custom_Generator(imgs, y_data, batch_size,AUGMENTATIONS_TRAIN)\n",
        "my_validation_batch_generator = My_Custom_Generator(vimgs, vy_data, batch_size,AUGMENTATIONS_TEST)"
      ],
      "metadata": {
        "execution": {
          "iopub.status.busy": "2024-06-18T07:49:10.060642Z",
          "iopub.execute_input": "2024-06-18T07:49:10.060924Z",
          "iopub.status.idle": "2024-06-18T07:49:10.069239Z",
          "shell.execute_reply.started": "2024-06-18T07:49:10.060893Z",
          "shell.execute_reply": "2024-06-18T07:49:10.068421Z"
        },
        "trusted": true,
        "id": "Y7So45tWCqiZ"
      },
      "execution_count": null,
      "outputs": []
    },
    {
      "cell_type": "code",
      "source": [
        "part='XR_FINGER'\n",
        "checkpoint_path = \"FINGER_MODEL.h5\"\n",
        "checkpoint_dir = os.path.dirname(checkpoint_path)\n",
        "my_callbacks = [\n",
        "    keras.callbacks.ModelCheckpoint(checkpoint_path, monitor='val_accuracy', verbose=0, save_best_only=True,\n",
        "                                       save_weights_only=False, mode='auto'),\n",
        "    keras.callbacks.ReduceLROnPlateau(monitor='val_accuracy', factor=0.1,patience=3,\n",
        "                                         min_delta=0.001, verbose=1, min_lr=0.000000001)]"
      ],
      "metadata": {
        "execution": {
          "iopub.status.busy": "2024-06-18T07:49:12.047877Z",
          "iopub.execute_input": "2024-06-18T07:49:12.048166Z",
          "iopub.status.idle": "2024-06-18T07:49:12.054292Z",
          "shell.execute_reply.started": "2024-06-18T07:49:12.04813Z",
          "shell.execute_reply": "2024-06-18T07:49:12.053503Z"
        },
        "trusted": true,
        "id": "-rlbxiz2CqiZ"
      },
      "execution_count": null,
      "outputs": []
    },
    {
      "cell_type": "code",
      "source": [
        "# tpu = tf.distribute.cluster_resolver.TPUClusterResolver.connect()\n",
        "# tpu_strategy = tf.distribute.experimental.TPUStrategy(tpu)"
      ],
      "metadata": {
        "execution": {
          "iopub.status.busy": "2021-10-04T18:42:27.92055Z",
          "iopub.execute_input": "2021-10-04T18:42:27.920876Z",
          "iopub.status.idle": "2021-10-04T18:42:27.926527Z",
          "shell.execute_reply.started": "2021-10-04T18:42:27.920843Z",
          "shell.execute_reply": "2021-10-04T18:42:27.92578Z"
        },
        "trusted": true,
        "id": "1u_RJDU7Cqia"
      },
      "execution_count": null,
      "outputs": []
    },
    {
      "cell_type": "code",
      "source": [
        "# with tpu_strategy.scope():\n",
        "Inception=tf.keras.applications.InceptionV3(include_top=False,input_shape=(224,224,3))\n",
        "input_image=keras.layers.Input((224,224,3))\n",
        "x=Inception (input_image)\n",
        "\n",
        "x=keras.layers.GlobalAveragePooling2D()(x)\n",
        "x=keras.layers.Flatten()(x)\n",
        "\n",
        "x=keras.layers.Dense(256)(x)\n",
        "x=keras.layers.Activation(activation='relu')(x)\n",
        "x=keras.layers.Dropout(0.5)(x)\n",
        "x=keras.layers.Dense(2)(x)\n",
        "out=keras.layers.Activation(activation='softmax')(x)\n",
        "\n",
        "\n",
        "model=keras.Model(inputs=input_image,outputs=out)\n",
        "model.compile(optimizer=keras.optimizers.RMSprop(lr=0.0001),loss='categorical_crossentropy',metrics=['accuracy'])\n",
        "\n",
        "print(model.summary())"
      ],
      "metadata": {
        "execution": {
          "iopub.status.busy": "2024-06-18T07:49:15.583001Z",
          "iopub.execute_input": "2024-06-18T07:49:15.583303Z",
          "iopub.status.idle": "2024-06-18T07:49:21.405032Z",
          "shell.execute_reply.started": "2024-06-18T07:49:15.58327Z",
          "shell.execute_reply": "2024-06-18T07:49:21.404257Z"
        },
        "trusted": true,
        "id": "H9J8Ef31Cqia"
      },
      "execution_count": null,
      "outputs": []
    },
    {
      "cell_type": "code",
      "source": [
        "my_callbacks,d_class_weights"
      ],
      "metadata": {
        "execution": {
          "iopub.status.busy": "2024-06-18T07:49:26.665642Z",
          "iopub.execute_input": "2024-06-18T07:49:26.665928Z",
          "iopub.status.idle": "2024-06-18T07:49:26.671675Z",
          "shell.execute_reply.started": "2024-06-18T07:49:26.665896Z",
          "shell.execute_reply": "2024-06-18T07:49:26.670858Z"
        },
        "trusted": true,
        "id": "-RIRmSFtCqia"
      },
      "execution_count": null,
      "outputs": []
    },
    {
      "cell_type": "code",
      "source": [
        "history=model.fit_generator(generator=my_training_batch_generator,\n",
        "                   steps_per_epoch = int(training_data // batch_size),\n",
        "                   epochs = 18,\n",
        "                   verbose = 1,\n",
        "                   class_weight=d_class_weights,\n",
        "                   validation_data = my_validation_batch_generator,\n",
        "                   validation_steps = int(validation_data // batch_size),\n",
        "                   callbacks=my_callbacks)"
      ],
      "metadata": {
        "execution": {
          "iopub.status.busy": "2024-06-18T07:49:28.708254Z",
          "iopub.execute_input": "2024-06-18T07:49:28.708891Z",
          "iopub.status.idle": "2024-06-18T09:23:25.305242Z",
          "shell.execute_reply.started": "2024-06-18T07:49:28.708846Z",
          "shell.execute_reply": "2024-06-18T09:23:25.304048Z"
        },
        "trusted": true,
        "id": "3-bTBf8PCqib"
      },
      "execution_count": null,
      "outputs": []
    },
    {
      "cell_type": "code",
      "source": [],
      "metadata": {
        "id": "zGq_F7UTCqib"
      },
      "execution_count": null,
      "outputs": []
    }
  ]
}